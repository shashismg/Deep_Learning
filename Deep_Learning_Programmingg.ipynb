{
  "cells": [
    {
      "cell_type": "markdown",
      "id": "1e77ad4c",
      "metadata": {
        "id": "1e77ad4c"
      },
      "source": [
        "<div class=\"alert alert-block alert-info\">\n",
        "    \n",
        "# Overall Instructions\n",
        "1. **Do not run the entire Notebook in one go. Also avoid making any changes to the Cells (wherever specified)**\n",
        "2. Closely follow the question-wise instructions carefully to solve the problem at hand\n",
        "3. All information to solve a particular question (or to test your code) is provided in the question itself\n",
        "4. **For each question, first run the code cells to initialize variables/matrices/vectors, etc. and then write your code as instructed**\n",
        "    \n",
        "Happy Coding &#128512; !"
      ]
    },
    {
      "cell_type": "markdown",
      "id": "dd9f7c53",
      "metadata": {
        "id": "dd9f7c53"
      },
      "source": [
        "## List of exercises\n",
        "* Q1 - Compute Linear Regression Model's Prediction\n",
        "* Q2 - Implement the Sigmoid function\n",
        "* Q3 - Compute Logistic Regression Model's Prediction for a single Data Point\n",
        "* Q4 - Compute Logistic Regression Model's Prediction on multiple Data points\n",
        "* Q5 - Implement the ReLu and Tanh Activation functions\n",
        "* Q6 - Perform Forward Propagation on a simple FFNN for a Single Data Point\n",
        "* Q7 - Perform Forward Propagation on a simple FFNN for Multiple Data Points\n",
        "* Q8 - Compute the Binary Cross-Entropy loss for a FFNN across Multiple data points\n",
        "* Q9 - Find the FFNN parameters that make the provided Data Points 'Linearly Separable'\n",
        "* Q10 - Implement Backpropagation for a simple FFNN"
      ]
    },
    {
      "cell_type": "code",
      "execution_count": null,
      "id": "4e77d401",
      "metadata": {
        "id": "4e77d401"
      },
      "outputs": [],
      "source": []
    },
    {
      "cell_type": "code",
      "execution_count": null,
      "id": "c2de6f71",
      "metadata": {
        "id": "c2de6f71"
      },
      "outputs": [],
      "source": []
    },
    {
      "cell_type": "code",
      "execution_count": null,
      "id": "986b4341",
      "metadata": {
        "id": "986b4341"
      },
      "outputs": [],
      "source": [
        "# Importing important libraries\n",
        "import numpy as np, matplotlib.pyplot as plt, seaborn as sns"
      ]
    },
    {
      "cell_type": "code",
      "execution_count": null,
      "id": "6bdf03aa",
      "metadata": {
        "id": "6bdf03aa"
      },
      "outputs": [],
      "source": []
    },
    {
      "cell_type": "markdown",
      "id": "f64f2e9f",
      "metadata": {
        "id": "f64f2e9f"
      },
      "source": [
        "<div class=\"alert alert-block alert-danger\">\n",
        "    \n",
        "## Q1 - Compute Linear Regression Model's Prediction\n",
        "A Linear Regression Model has the equation :\n",
        "\n",
        "$$ \\LARGE \\hat{Y} = {w}_{0} + {w}_{1}{X}_{1} + {w}_{2}{X}_{2} + ... + {w}_{n}{X}_{n} $$\n",
        "\n",
        "#### For a given values of X (Feature Vector), W (Weights Vector) and W_0 (Bias), compute the Predicted value\n",
        "* Submit your final answer in LMS\n",
        "</div>"
      ]
    },
    {
      "cell_type": "code",
      "execution_count": null,
      "id": "ba8cab1c",
      "metadata": {
        "id": "ba8cab1c",
        "outputId": "a15206b9-73c8-4729-c71d-64ed3b16badd",
        "colab": {
          "base_uri": "https://localhost:8080/"
        }
      },
      "outputs": [
        {
          "output_type": "stream",
          "name": "stdout",
          "text": [
            "X : [172  47 117 192  67 195 103]\n",
            "W : [-1  9  8 -6 -4  2 -9]\n",
            "W_0 : -61\n"
          ]
        }
      ],
      "source": [
        "#------------DO NOT MAKE ANY CHANGES IN THIS CELL------------\n",
        "#------------DO NOT MAKE ANY CHANGES IN THIS CELL------------\n",
        "#------------DO NOT MAKE ANY CHANGES IN THIS CELL------------\n",
        "np.random.seed(0)\n",
        "lin_reg_feature_vector = np.random.randint(0,200,7)\n",
        "lin_reg_feature_weights = np.random.randint(-10,10,7)\n",
        "lin_reg_bias_weight = np.random.randint(-100,100)\n",
        "\n",
        "print('X :',lin_reg_feature_vector)\n",
        "print('W :',lin_reg_feature_weights)\n",
        "print('W_0 :',lin_reg_bias_weight)\n",
        "\n",
        "#------------DO NOT MAKE ANY CHANGES IN THIS CELL------------\n",
        "#------------DO NOT MAKE ANY CHANGES IN THIS CELL------------\n",
        "#------------DO NOT MAKE ANY CHANGES IN THIS CELL------------"
      ]
    },
    {
      "cell_type": "code",
      "execution_count": null,
      "id": "46f6dbc3",
      "metadata": {
        "id": "46f6dbc3",
        "colab": {
          "base_uri": "https://localhost:8080/"
        },
        "outputId": "997e7660-d3a7-439b-e933-faeb17ede15b"
      },
      "outputs": [
        {
          "output_type": "execute_result",
          "data": {
            "text/plain": [
              "np.int64(-831)"
            ]
          },
          "metadata": {},
          "execution_count": 5
        }
      ],
      "source": [
        "sum([lin_reg_feature_vector[i] * lin_reg_feature_weights[i]\n",
        "     for i in range(len(lin_reg_feature_vector))]) + lin_reg_bias_weight # Method 1"
      ]
    },
    {
      "cell_type": "code",
      "execution_count": null,
      "id": "9ab92b70",
      "metadata": {
        "id": "9ab92b70",
        "colab": {
          "base_uri": "https://localhost:8080/"
        },
        "outputId": "485b9760-966a-478b-bb65-d99c53853b5c"
      },
      "outputs": [
        {
          "output_type": "execute_result",
          "data": {
            "text/plain": [
              "np.int64(-831)"
            ]
          },
          "metadata": {},
          "execution_count": 6
        }
      ],
      "source": [
        "np.dot(lin_reg_feature_vector, lin_reg_feature_weights) + lin_reg_bias_weight # Method 2 - for a dot product, the size of both the matrix should be exactly same"
      ]
    },
    {
      "cell_type": "code",
      "execution_count": null,
      "id": "a40be26d",
      "metadata": {
        "id": "a40be26d"
      },
      "outputs": [],
      "source": []
    },
    {
      "cell_type": "markdown",
      "id": "cf92029b",
      "metadata": {
        "id": "cf92029b"
      },
      "source": [
        "<div class=\"alert alert-block alert-danger\">\n",
        "\n",
        "## Q2 - Implement the Sigmoid function\n",
        "Write a user defined function (with the below equation) which computes probabilities p using the Sigmoid Form :\n",
        "\n",
        "$$ \\LARGE  {p} = \\frac{1}{1+e^{-z}} $$\n",
        "\n",
        "#### The function should work for both Scalar values and Multi-dimensional Arrays\n",
        "</div>"
      ]
    },
    {
      "cell_type": "code",
      "execution_count": null,
      "id": "b3636734",
      "metadata": {
        "id": "b3636734",
        "outputId": "32c7844c-ab9b-4122-cd90-65212bfcc226",
        "colab": {
          "base_uri": "https://localhost:8080/"
        }
      },
      "outputs": [
        {
          "output_type": "stream",
          "name": "stdout",
          "text": [
            "z as a Scalar Value : 65\n",
            "z as a 1D Array : [ -75 -185  120  169  -77  -44   21  169 -192 -127]\n",
            "z as a 2D Array : \n",
            " [[  56 -160  171 -184  156   39]\n",
            " [ 195 -146  144  163  -78 -138]\n",
            " [-167    0  156  -23  -21 -146]\n",
            " [-123 -187   43  182  -59  148]]\n"
          ]
        }
      ],
      "source": [
        "#------------DO NOT MAKE ANY CHANGES IN THIS CELL------------\n",
        "#------------DO NOT MAKE ANY CHANGES IN THIS CELL------------\n",
        "#------------DO NOT MAKE ANY CHANGES IN THIS CELL------------\n",
        "np.random.seed(10)\n",
        "z1_scalar = np.random.randint(-200,200)\n",
        "z1_1D_array = np.random.randint(-200,200,10)\n",
        "z1_2D_array = np.random.randint(-200,200,(4,6))\n",
        "print('z as a Scalar Value :',z1_scalar)\n",
        "print('z as a 1D Array :',z1_1D_array)\n",
        "print('z as a 2D Array :','\\n',z1_2D_array)\n",
        "#------------DO NOT MAKE ANY CHANGES IN THIS CELL------------\n",
        "#------------DO NOT MAKE ANY CHANGES IN THIS CELL------------\n",
        "#------------DO NOT MAKE ANY CHANGES IN THIS CELL------------"
      ]
    },
    {
      "cell_type": "code",
      "execution_count": null,
      "id": "97678d5b",
      "metadata": {
        "id": "97678d5b"
      },
      "outputs": [],
      "source": [
        "#------------Write your code here------------"
      ]
    },
    {
      "cell_type": "code",
      "execution_count": null,
      "id": "ac29c1d6",
      "metadata": {
        "id": "ac29c1d6"
      },
      "outputs": [],
      "source": [
        "def sigmoid(z):\n",
        "  return 1 / (1 + np.exp(-z))"
      ]
    },
    {
      "cell_type": "markdown",
      "id": "332b82e3",
      "metadata": {
        "id": "332b82e3"
      },
      "source": [
        "<div class=\"alert alert-block alert-warning\">\n",
        "    \n",
        "### Test your function on the above declared values of z, i.e. z1_scalar, z1_1D_array and z1_2D_array\n",
        "* **Round the Predicted probabilty values to Two decimal places**\n",
        "* After rounding, Count the number of times you got the Probabilities as 1 for each of z1_scalar, z1_1D_array and z1_2D_array\n",
        "* **Submit these counts as your answers in the LMS**\n"
      ]
    },
    {
      "cell_type": "code",
      "execution_count": null,
      "id": "de2c4bd4",
      "metadata": {
        "id": "de2c4bd4"
      },
      "outputs": [],
      "source": [
        "#------------Write your code here------------"
      ]
    },
    {
      "cell_type": "code",
      "execution_count": null,
      "id": "aa597cd0",
      "metadata": {
        "id": "aa597cd0",
        "colab": {
          "base_uri": "https://localhost:8080/"
        },
        "outputId": "0b62c004-1ea2-4f7a-b73d-6d0865dc385f"
      },
      "outputs": [
        {
          "output_type": "execute_result",
          "data": {
            "text/plain": [
              "np.float64(1.0)"
            ]
          },
          "metadata": {},
          "execution_count": 9
        }
      ],
      "source": [
        "sigmoid(z1_scalar).round(2)"
      ]
    },
    {
      "cell_type": "code",
      "source": [
        "sigmoid(z1_1D_array).round(2)"
      ],
      "metadata": {
        "colab": {
          "base_uri": "https://localhost:8080/"
        },
        "id": "Z8iw46-PLxqM",
        "outputId": "f5dd9495-5a61-4167-9127-8449a0b7d400"
      },
      "id": "Z8iw46-PLxqM",
      "execution_count": null,
      "outputs": [
        {
          "output_type": "execute_result",
          "data": {
            "text/plain": [
              "array([0., 0., 1., 1., 0., 0., 1., 1., 0., 0.])"
            ]
          },
          "metadata": {},
          "execution_count": 10
        }
      ]
    },
    {
      "cell_type": "code",
      "execution_count": null,
      "id": "18cb1544",
      "metadata": {
        "id": "18cb1544",
        "colab": {
          "base_uri": "https://localhost:8080/"
        },
        "outputId": "8e592e0c-5706-4e75-a738-fb480506e372"
      },
      "outputs": [
        {
          "output_type": "execute_result",
          "data": {
            "text/plain": [
              "np.int64(4)"
            ]
          },
          "metadata": {},
          "execution_count": 11
        }
      ],
      "source": [
        "(sigmoid(z1_1D_array).round(2) == 1).sum()"
      ]
    },
    {
      "cell_type": "code",
      "source": [
        "sigmoid(z1_2D_array).round(2)"
      ],
      "metadata": {
        "colab": {
          "base_uri": "https://localhost:8080/"
        },
        "id": "1jDKxtc-MEnO",
        "outputId": "dd0f2f11-bc91-4fee-dc36-7e72cd55aeef"
      },
      "id": "1jDKxtc-MEnO",
      "execution_count": null,
      "outputs": [
        {
          "output_type": "execute_result",
          "data": {
            "text/plain": [
              "array([[1. , 0. , 1. , 0. , 1. , 1. ],\n",
              "       [1. , 0. , 1. , 1. , 0. , 0. ],\n",
              "       [0. , 0.5, 1. , 0. , 0. , 0. ],\n",
              "       [0. , 0. , 1. , 1. , 0. , 1. ]])"
            ]
          },
          "metadata": {},
          "execution_count": 12
        }
      ]
    },
    {
      "cell_type": "code",
      "execution_count": null,
      "id": "328a07f4",
      "metadata": {
        "id": "328a07f4",
        "colab": {
          "base_uri": "https://localhost:8080/"
        },
        "outputId": "5230e575-eb5c-4ace-c59e-b9ca93ac0b32"
      },
      "outputs": [
        {
          "output_type": "execute_result",
          "data": {
            "text/plain": [
              "np.int64(11)"
            ]
          },
          "metadata": {},
          "execution_count": 13
        }
      ],
      "source": [
        "(sigmoid(z1_2D_array).round(2) == 1).sum()"
      ]
    },
    {
      "cell_type": "markdown",
      "id": "e0753986",
      "metadata": {
        "id": "e0753986"
      },
      "source": [
        "<div class=\"alert alert-block alert-danger\">\n",
        "\n",
        "## Q3 - Compute Logistic Regression Model's Prediction on a single data point\n",
        "A Logistic Regression Model has the equation :\n",
        "\n",
        "$$ \\LARGE  {p} = \\frac{1}{1+e^{-z}} $$\n",
        "\n",
        "where\n",
        "\n",
        "$$ \\large {z} = {w}_{0} + {w}_{1}{X}_{1} + {w}_{2}{X}_{2} + ... + {w}_{n}{X}_{n} $$\n",
        "\n",
        "\n",
        "#### For the given values of X (Feature Vector), W (Weights Vector) and W_0 (Bias), compute the Predicted Probabilities\n",
        "* Apply rounding only on the final outcome, i.e., Predicted probability\n",
        "* **Submit the Predicted Probability value (rounded to Two decimal places) as your answer in the LMS**\n",
        "</div>"
      ]
    },
    {
      "cell_type": "code",
      "execution_count": null,
      "id": "726f73cb",
      "metadata": {
        "id": "726f73cb",
        "outputId": "5ac73596-8f78-464d-9b76-6b98b11a4c76",
        "colab": {
          "base_uri": "https://localhost:8080/"
        }
      },
      "outputs": [
        {
          "output_type": "stream",
          "name": "stdout",
          "text": [
            "X : [0.8 1.2 0.5 0.  0.7 1.1 1.5]\n",
            "W : [ 0.561  0.823  0.389 -0.3    0.002 -0.518  0.321]\n",
            "W_0 : 0.5\n"
          ]
        }
      ],
      "source": [
        "#------------DO NOT MAKE ANY CHANGES IN THIS CELL------------\n",
        "#------------DO NOT MAKE ANY CHANGES IN THIS CELL------------\n",
        "#------------DO NOT MAKE ANY CHANGES IN THIS CELL------------\n",
        "np.random.seed(15)\n",
        "logistic_reg_feature_vector = np.random.randint(0,20,7)/10\n",
        "logistic_reg_feature_weights = np.random.randn(7).round(3)\n",
        "logistic_reg_bias_weight = np.random.randint(-10,10)/10\n",
        "\n",
        "print('X :',logistic_reg_feature_vector)\n",
        "print('W :',logistic_reg_feature_weights)\n",
        "\n",
        "print('W_0 :',logistic_reg_bias_weight)\n",
        "\n",
        "#------------DO NOT MAKE ANY CHANGES IN THIS CELL------------\n",
        "#------------DO NOT MAKE ANY CHANGES IN THIS CELL------------\n",
        "#------------DO NOT MAKE ANY CHANGES IN THIS CELL------------"
      ]
    },
    {
      "cell_type": "code",
      "execution_count": null,
      "id": "149f821c",
      "metadata": {
        "id": "149f821c"
      },
      "outputs": [],
      "source": [
        "#------------Write your code here------------"
      ]
    },
    {
      "cell_type": "code",
      "execution_count": null,
      "id": "6e8515b4",
      "metadata": {
        "id": "6e8515b4",
        "colab": {
          "base_uri": "https://localhost:8080/"
        },
        "outputId": "81fa4926-0061-4304-a985-a881697c3ca1"
      },
      "outputs": [
        {
          "output_type": "stream",
          "name": "stdout",
          "text": [
            "0.89\n"
          ]
        }
      ],
      "source": [
        "z = np.dot(logistic_reg_feature_vector, logistic_reg_feature_weights) +  logistic_reg_bias_weight\n",
        "result = sigmoid(z)\n",
        "print(result.round(2)) # Probability between 0 to 1"
      ]
    },
    {
      "cell_type": "markdown",
      "id": "e4515563",
      "metadata": {
        "id": "e4515563"
      },
      "source": [
        "<div class=\"alert alert-block alert-danger\">\n",
        "\n",
        "## Q4 - Compute Logistic Regression Model's Prediction on multiple data points\n",
        "A Logistic Regression Model has the equation :\n",
        "\n",
        "$$ \\LARGE  {p} = \\frac{1}{1+e^{-z}} $$\n",
        "\n",
        "where\n",
        "\n",
        "$$ \\large {z} = {w}_{0} + {w}_{1}{X}_{1} + {w}_{2}{X}_{2} + ... + {w}_{n}{X}_{n} $$\n",
        "\n",
        "\n",
        "#### For the given values of X (Matrix) and W (Weights Vector), compute the Predicted Probabilities\n",
        "* Apply rounding (to One decimal places) **only** on the final outcome, i.e., Predicted probability\n",
        "* Count the number of cases where the Probability is exactly 1 (i.e., after rounding)\n",
        "* **Submit this Count as your answer in the LMS**\n",
        "</div>"
      ]
    },
    {
      "cell_type": "code",
      "execution_count": null,
      "id": "b102fb4b",
      "metadata": {
        "id": "b102fb4b",
        "outputId": "dd1375bb-95e2-4028-d8f4-dde6ea7b110e",
        "colab": {
          "base_uri": "https://localhost:8080/"
        }
      },
      "outputs": [
        {
          "output_type": "stream",
          "name": "stdout",
          "text": [
            "X : \n",
            " [[ 1 25 74 38]\n",
            " [ 1 18 83 10]\n",
            " [ 1 46 26 21]\n",
            " [ 1 98 72 43]\n",
            " [ 1 88 59 61]\n",
            " [ 1 87 79 23]\n",
            " [ 1 23 96 40]\n",
            " [ 1 22 75 41]\n",
            " [ 1 46 37 28]\n",
            " [ 1 32 33 21]]\n",
            "W : [-0.271  0.613 -0.267 -0.549]\n"
          ]
        }
      ],
      "source": [
        "#------------DO NOT MAKE ANY CHANGES IN THIS CELL------------\n",
        "#------------DO NOT MAKE ANY CHANGES IN THIS CELL------------\n",
        "#------------DO NOT MAKE ANY CHANGES IN THIS CELL------------\n",
        "np.random.seed(10)\n",
        "logistic_reg_feature_matrix = np.random.randint(10,99,(10,4))\n",
        "logistic_reg_feature_matrix[:,0]=1 # A constant value (by default, the very basic way to initialize is 1)\n",
        "logistic_reg_feature_m_weights = np.random.randn(4).round(3)\n",
        "\n",
        "print('X :','\\n',logistic_reg_feature_matrix)\n",
        "print('W :',logistic_reg_feature_m_weights)\n",
        "\n",
        "#------------DO NOT MAKE ANY CHANGES IN THIS CELL------------\n",
        "#------------DO NOT MAKE ANY CHANGES IN THIS CELL------------\n",
        "#------------DO NOT MAKE ANY CHANGES IN THIS CELL------------"
      ]
    },
    {
      "cell_type": "code",
      "execution_count": null,
      "id": "6bb4fd41",
      "metadata": {
        "id": "6bb4fd41"
      },
      "outputs": [],
      "source": [
        "#------------Write your code here------------"
      ]
    },
    {
      "cell_type": "code",
      "execution_count": null,
      "id": "63bd96ec",
      "metadata": {
        "id": "63bd96ec",
        "colab": {
          "base_uri": "https://localhost:8080/"
        },
        "outputId": "66c371d7-7f35-4059-fce9-841e28e6ef68"
      },
      "outputs": [
        {
          "output_type": "stream",
          "name": "stdout",
          "text": [
            "[0.   0.   1.   1.   0.99 1.   0.   0.   0.94 0.27]\n"
          ]
        }
      ],
      "source": [
        "z = np.dot(logistic_reg_feature_matrix, logistic_reg_feature_m_weights)\n",
        "result = sigmoid(z)\n",
        "print(result.round(2))"
      ]
    },
    {
      "cell_type": "markdown",
      "id": "86eee1be",
      "metadata": {
        "id": "86eee1be"
      },
      "source": [
        "<div class=\"alert alert-block alert-danger\">\n",
        "\n",
        "## Q5 - Implement the ReLu and Tanh Activation functions\n",
        "Write user defined functions (with the below equations):\n",
        "***\n",
        "$ \\large\n",
        "\\begin{align}\n",
        "ReLu(z) = \\left\\{\n",
        "\\begin{array}{cl}\n",
        "  0 & \\quad \\mbox{if $z$ $\\le$ 0}\\\\\n",
        "  z & \\quad \\mbox{if $z$ > 0}\\\\\n",
        "\\end{array}\n",
        "\\right.\n",
        "\\end{align} $\n",
        "***\n",
        "$ \\LARGE  {tanh(z)} = \\frac{e^{z}-e^{-z}}{e^{z}+e^{-z}} $\n",
        "\n",
        "#### Both these activation functions should work on both Scalar values and Multi-dimensional Arrays\n",
        "</div>"
      ]
    },
    {
      "cell_type": "code",
      "execution_count": null,
      "id": "48feb05d",
      "metadata": {
        "id": "48feb05d",
        "outputId": "67adc79e-f3ec-4af7-ae1f-f04fb3a22147",
        "colab": {
          "base_uri": "https://localhost:8080/"
        }
      },
      "outputs": [
        {
          "output_type": "stream",
          "name": "stdout",
          "text": [
            "z as a Scalar Value : -4\n",
            "z as a 1D Array : [-15 -19   3 -12 -11  19  10  16  18 -17]\n",
            "z as a 2D Array : \n",
            " [[-20   1   1 -11  18  18]\n",
            " [-18  10 -12 -18   3  12]\n",
            " [ 13  12   8 -17  -5  14]\n",
            " [ 11  -3  -3   5 -11  -8]]\n"
          ]
        }
      ],
      "source": [
        "#------------DO NOT MAKE ANY CHANGES IN THIS CELL------------\n",
        "#------------DO NOT MAKE ANY CHANGES IN THIS CELL------------\n",
        "#------------DO NOT MAKE ANY CHANGES IN THIS CELL------------\n",
        "np.random.seed(4)\n",
        "z2_scalar = np.random.randint(-50,50)\n",
        "z2_1D_array = np.random.randint(-20,20,10)\n",
        "z2_2D_array = np.random.randint(-20,20,(4,6))\n",
        "print('z as a Scalar Value :',z2_scalar)\n",
        "print('z as a 1D Array :',z2_1D_array)\n",
        "print('z as a 2D Array :','\\n',z2_2D_array)\n",
        "#------------DO NOT MAKE ANY CHANGES IN THIS CELL------------\n",
        "#------------DO NOT MAKE ANY CHANGES IN THIS CELL------------\n",
        "#------------DO NOT MAKE ANY CHANGES IN THIS CELL------------"
      ]
    },
    {
      "cell_type": "code",
      "execution_count": null,
      "id": "a5a38112",
      "metadata": {
        "id": "a5a38112"
      },
      "outputs": [],
      "source": [
        "#------------Write your code here------------"
      ]
    },
    {
      "cell_type": "code",
      "execution_count": null,
      "id": "7050dc9b",
      "metadata": {
        "id": "7050dc9b"
      },
      "outputs": [],
      "source": [
        "def tanh(z):\n",
        "  return (np.exp(z) - np.exp(-z)) / (np.exp(z) + np.exp(-z))"
      ]
    },
    {
      "cell_type": "code",
      "execution_count": null,
      "id": "10663104",
      "metadata": {
        "id": "10663104"
      },
      "outputs": [],
      "source": [
        "def relu(z):\n",
        "  return np.where(z>0,z,0) # np.where works in the capacity of if function in excel or GS (if(logical_test, value_if_true, value_if_false))"
      ]
    },
    {
      "cell_type": "code",
      "execution_count": null,
      "id": "e4daf777",
      "metadata": {
        "id": "e4daf777"
      },
      "outputs": [],
      "source": []
    },
    {
      "cell_type": "markdown",
      "id": "84a533aa",
      "metadata": {
        "id": "84a533aa"
      },
      "source": [
        "<div class=\"alert alert-block alert-warning\">\n",
        "    \n",
        "### Test your functions on the above declared values of z, i.e. z2_scalar, z2_1D_array and z2_2D_array\n",
        "***\n",
        "* **Round the output values returned by both the functions to Two decimal places**\n",
        "* After rounding, Count the number of times you got :\n",
        " * The output values as 0 when the ReLu() function was applied on each of z2_scalar, z2_1D_array and z2_2D_array\n",
        " * The output values as 1 when the Tanh() function was applied on each of z2_scalar, z2_1D_array and z2_2D_array\n",
        "* **Submit these Counts as your answers in the LMS**\n",
        "</div>"
      ]
    },
    {
      "cell_type": "code",
      "execution_count": null,
      "id": "ac3db920",
      "metadata": {
        "id": "ac3db920"
      },
      "outputs": [],
      "source": [
        "#------------Write your code here------------"
      ]
    },
    {
      "cell_type": "code",
      "execution_count": null,
      "id": "86325e23",
      "metadata": {
        "id": "86325e23",
        "colab": {
          "base_uri": "https://localhost:8080/"
        },
        "outputId": "90001f43-20d8-4f57-9132-69d1474c2ee8"
      },
      "outputs": [
        {
          "output_type": "stream",
          "name": "stdout",
          "text": [
            "-1.0\n",
            "0\n"
          ]
        }
      ],
      "source": [
        "print(tanh(z2_scalar).round(2))\n",
        "print(relu(z2_scalar).round(2))"
      ]
    },
    {
      "cell_type": "code",
      "source": [
        "print((tanh(z2_1D_array).round(2)))\n",
        "print((relu(z2_1D_array).round(2)))"
      ],
      "metadata": {
        "colab": {
          "base_uri": "https://localhost:8080/"
        },
        "id": "ACxmY3iOP8oh",
        "outputId": "4fe57672-4038-4b0e-88d9-59739cb7e7fa"
      },
      "id": "ACxmY3iOP8oh",
      "execution_count": null,
      "outputs": [
        {
          "output_type": "stream",
          "name": "stdout",
          "text": [
            "[-1. -1.  1. -1. -1.  1.  1.  1.  1. -1.]\n",
            "[ 0  0  3  0  0 19 10 16 18  0]\n"
          ]
        }
      ]
    },
    {
      "cell_type": "code",
      "execution_count": null,
      "id": "5ec140e5",
      "metadata": {
        "id": "5ec140e5",
        "colab": {
          "base_uri": "https://localhost:8080/"
        },
        "outputId": "12f8dfa5-eb61-4d85-a516-bb4a4be0a00b"
      },
      "outputs": [
        {
          "output_type": "stream",
          "name": "stdout",
          "text": [
            "5\n",
            "5\n"
          ]
        }
      ],
      "source": [
        "print((tanh(z2_1D_array).round(2)==1).sum())\n",
        "print((relu(z2_1D_array).round(2)==0).sum())"
      ]
    },
    {
      "cell_type": "code",
      "source": [
        "print((tanh(z2_2D_array).round(2)))\n",
        "print((relu(z2_2D_array).round(2)))"
      ],
      "metadata": {
        "colab": {
          "base_uri": "https://localhost:8080/"
        },
        "id": "D93CpxwGQDLG",
        "outputId": "3752b085-36d1-495d-e31e-8fb7efc61dd9"
      },
      "id": "D93CpxwGQDLG",
      "execution_count": null,
      "outputs": [
        {
          "output_type": "stream",
          "name": "stdout",
          "text": [
            "[[-1.    0.76  0.76 -1.    1.    1.  ]\n",
            " [-1.    1.   -1.   -1.    1.    1.  ]\n",
            " [ 1.    1.    1.   -1.   -1.    1.  ]\n",
            " [ 1.   -1.   -1.    1.   -1.   -1.  ]]\n",
            "[[ 0  1  1  0 18 18]\n",
            " [ 0 10  0  0  3 12]\n",
            " [13 12  8  0  0 14]\n",
            " [11  0  0  5  0  0]]\n"
          ]
        }
      ]
    },
    {
      "cell_type": "code",
      "execution_count": null,
      "id": "6ef979a6",
      "metadata": {
        "id": "6ef979a6",
        "colab": {
          "base_uri": "https://localhost:8080/"
        },
        "outputId": "52d9e058-beb0-4804-a748-995969deaf17"
      },
      "outputs": [
        {
          "output_type": "stream",
          "name": "stdout",
          "text": [
            "11\n",
            "11\n"
          ]
        }
      ],
      "source": [
        "print((tanh(z2_2D_array).round(2)==1).sum())\n",
        "print((relu(z2_2D_array).round(2)==0).sum())"
      ]
    },
    {
      "cell_type": "code",
      "execution_count": null,
      "id": "5ce7ff45",
      "metadata": {
        "scrolled": true,
        "id": "5ce7ff45",
        "outputId": "fe230366-a5fe-4394-aaf7-1694ff08bd47"
      },
      "outputs": [
        {
          "data": {
            "image/png": "[encoded data removed]",
            "text/plain": [
              "<IPython.core.display.Image object>"
            ]
          },
          "execution_count": 29,
          "metadata": {},
          "output_type": "execute_result"
        }
      ],
      "source": [
        "#------Do not run this Cell------------"
      ]
    },
    {
      "cell_type": "markdown",
      "id": "57bdc280",
      "metadata": {
        "id": "57bdc280"
      },
      "source": [
        "<div class=\"alert alert-block alert-danger\">\n",
        "\n",
        "## Q6 - Perform Forward Propagation on the above FFNN for a single Data Point\n",
        "</div>"
      ]
    },
    {
      "cell_type": "code",
      "execution_count": null,
      "id": "b2d27ed8",
      "metadata": {
        "id": "b2d27ed8",
        "outputId": "d7507a56-60bc-4d06-8bab-8aa2c996c724",
        "colab": {
          "base_uri": "https://localhost:8080/"
        }
      },
      "outputs": [
        {
          "output_type": "stream",
          "name": "stdout",
          "text": [
            "X : \n",
            " [  1  47 117]\n",
            "W : \n",
            " [[-10  -7]\n",
            " [ -7  -3]\n",
            " [ -1   9]]\n",
            "V : \n",
            " [[ 8]\n",
            " [-6]\n",
            " [-4]]\n"
          ]
        }
      ],
      "source": [
        "#------------DO NOT MAKE ANY CHANGES IN THIS CELL------------\n",
        "#------------DO NOT MAKE ANY CHANGES IN THIS CELL------------\n",
        "#------------DO NOT MAKE ANY CHANGES IN THIS CELL------------\n",
        "np.random.seed(0)\n",
        "Feature_vector = np.random.randint(0,200,3)\n",
        "Feature_vector[0]=1\n",
        "W_weights = np.random.randint(-10,10,(3,2))\n",
        "V_weights = np.random.randint(-10,10,(3,1))\n",
        "\n",
        "print('X :','\\n',Feature_vector)\n",
        "print('W :','\\n',W_weights)\n",
        "print('V :','\\n',V_weights)\n",
        "\n",
        "#------------DO NOT MAKE ANY CHANGES IN THIS CELL------------\n",
        "#------------DO NOT MAKE ANY CHANGES IN THIS CELL------------\n",
        "#------------DO NOT MAKE ANY CHANGES IN THIS CELL------------"
      ]
    },
    {
      "cell_type": "code",
      "execution_count": null,
      "id": "af61b2bd",
      "metadata": {
        "id": "af61b2bd"
      },
      "outputs": [],
      "source": []
    },
    {
      "cell_type": "markdown",
      "id": "8a3b5cd4",
      "metadata": {
        "id": "8a3b5cd4"
      },
      "source": [
        "<div class=\"alert alert-block alert-warning\">\n",
        "    \n",
        "## Get the final output from this FFNN using the above provided inputs:\n",
        " * Feature Vector\n",
        " * W_weights\n",
        " * V_weights\n",
        "***\n",
        "### Read the below Instructions carefully\n",
        "* Note that Bias Weights are already included in W_weights and V_weights\n",
        "* The first value in the Feature Vector get multiplied with the Bias Weights $ W{_{01}}$ and $W{_{02}}$\n",
        "* The computed values of $ a{_1}$ and $a{_2}$ get stored in a Vector\n",
        "* **You'll need to add a value of 1 to this Vector. This first value (of 1) will get multiplied with the Bias Weight $ V{_{01}}$**\n",
        "* The final output will be a Vector containing the value of $a{_3}$\n",
        "* **Submit this final output (.i.e, value of $a{_3}$) as your answer in the LMS**\n",
        "</div>"
      ]
    },
    {
      "cell_type": "code",
      "execution_count": null,
      "id": "cea9a1b0",
      "metadata": {
        "id": "cea9a1b0"
      },
      "outputs": [],
      "source": [
        "#------------Write your code here------------"
      ]
    },
    {
      "cell_type": "code",
      "execution_count": null,
      "id": "4c1a6817",
      "metadata": {
        "id": "4c1a6817",
        "colab": {
          "base_uri": "https://localhost:8080/"
        },
        "outputId": "e3acc633-d03e-42cf-8bca-1c77d256ff86"
      },
      "outputs": [
        {
          "output_type": "stream",
          "name": "stdout",
          "text": [
            "[-456  905]\n",
            "[  0 905]\n"
          ]
        }
      ],
      "source": [
        "Z1 = np.dot(Feature_vector, W_weights)\n",
        "print(Z1)\n",
        "A1 = relu(Z1) # Applying rectified linear unit - max(0,z)\n",
        "print(A1)"
      ]
    },
    {
      "cell_type": "code",
      "execution_count": null,
      "id": "7f62d70f",
      "metadata": {
        "id": "7f62d70f",
        "colab": {
          "base_uri": "https://localhost:8080/"
        },
        "outputId": "59a51f36-f3fb-4e5f-d883-bdbc707d5a1d"
      },
      "outputs": [
        {
          "output_type": "stream",
          "name": "stdout",
          "text": [
            "[  1.   0. 905.]\n"
          ]
        }
      ],
      "source": [
        "A1 = np.append(np.ones(1), A1)\n",
        "print(A1)"
      ]
    },
    {
      "cell_type": "code",
      "execution_count": null,
      "id": "b51424e7",
      "metadata": {
        "id": "b51424e7",
        "colab": {
          "base_uri": "https://localhost:8080/"
        },
        "outputId": "f2a40e59-d267-49e3-f6ce-b60b225316e8"
      },
      "outputs": [
        {
          "output_type": "stream",
          "name": "stdout",
          "text": [
            "[-3612.]\n",
            "[0.]\n"
          ]
        }
      ],
      "source": [
        "Z2 = np.dot(A1, V_weights)\n",
        "print(Z2)\n",
        "A2 = relu(Z2)\n",
        "print(A2)"
      ]
    },
    {
      "cell_type": "code",
      "source": [],
      "metadata": {
        "id": "73__AbsBRS4I"
      },
      "id": "73__AbsBRS4I",
      "execution_count": null,
      "outputs": []
    },
    {
      "cell_type": "code",
      "execution_count": null,
      "id": "131499b5",
      "metadata": {
        "id": "131499b5",
        "outputId": "01bba630-ca86-4b52-d7dc-35b0229c5f49"
      },
      "outputs": [
        {
          "data": {
            "image/png": "[encoded data removed]",
            "text/plain": [
              "<IPython.core.display.Image object>"
            ]
          },
          "execution_count": 95,
          "metadata": {},
          "output_type": "execute_result"
        }
      ],
      "source": [
        "#------Do not run this Cell------------"
      ]
    },
    {
      "cell_type": "markdown",
      "id": "2e486cca",
      "metadata": {
        "id": "2e486cca"
      },
      "source": [
        "<div class=\"alert alert-block alert-danger\">\n",
        "\n",
        "## Q7 - Perform Forward Propagation on the above FFNN for Multiple Data Points\n",
        "</div>"
      ]
    },
    {
      "cell_type": "code",
      "execution_count": null,
      "id": "1a7768e7",
      "metadata": {
        "id": "1a7768e7",
        "outputId": "9f4a34d0-23d0-488d-b8aa-4ec930766c9e",
        "colab": {
          "base_uri": "https://localhost:8080/"
        }
      },
      "outputs": [
        {
          "output_type": "stream",
          "name": "stdout",
          "text": [
            "X : \n",
            " [[ 1  4 15]\n",
            " [ 1 17 16]\n",
            " [ 1  8  9]\n",
            " [ 1 10  8]\n",
            " [ 1 19 16]\n",
            " [ 1 15 11]\n",
            " [ 1  1  8]]\n",
            "W : \n",
            " [[-0.6  0.4]\n",
            " [ 0.7  0.9]\n",
            " [ 0.3 -0.5]]\n",
            "V : \n",
            " [[0.3]\n",
            " [0.9]\n",
            " [0.3]]\n"
          ]
        }
      ],
      "source": [
        "#------------DO NOT MAKE ANY CHANGES IN THIS CELL------------\n",
        "#------------DO NOT MAKE ANY CHANGES IN THIS CELL------------\n",
        "#------------DO NOT MAKE ANY CHANGES IN THIS CELL------------\n",
        "np.random.seed(10)\n",
        "Feature_matrix = np.random.randint(0,20,(7,3))\n",
        "Feature_matrix[:,0]=1\n",
        "W_weights = np.random.randint(-10,10,(3,2))/10\n",
        "V_weights = np.random.randint(-10,10,(3,1))/10\n",
        "\n",
        "print('X :','\\n',Feature_matrix)\n",
        "print('W :','\\n',W_weights)\n",
        "print('V :','\\n',V_weights)\n",
        "\n",
        "#------------DO NOT MAKE ANY CHANGES IN THIS CELL------------\n",
        "#------------DO NOT MAKE ANY CHANGES IN THIS CELL------------\n",
        "#------------DO NOT MAKE ANY CHANGES IN THIS CELL------------"
      ]
    },
    {
      "cell_type": "code",
      "execution_count": null,
      "id": "81b118b8",
      "metadata": {
        "id": "81b118b8"
      },
      "outputs": [],
      "source": []
    },
    {
      "cell_type": "markdown",
      "id": "81818422",
      "metadata": {
        "id": "81818422"
      },
      "source": [
        "<div class=\"alert alert-block alert-warning\">\n",
        "    \n",
        "## Get the final output from this FFNN using the above provided inputs:\n",
        " * Feature Vector\n",
        " * W_weights\n",
        " * V_weights\n",
        "***\n",
        "### Read the below Instructions carefully\n",
        "* Note that Bias Weights are already included in W_weights and V_weights\n",
        "* Values in the first column of Feature Matrix (with all 1s) get multiplied with the Bias Weights $ W{_{01}}$ and $W{_{02}}$\n",
        "* The computed values of $ a{_1}$ and $a{_2}$ for all the Data Points get stored in a Matrix\n",
        "* **You'll need to add an extra column to this Matrix consisting of all 1s. This first column of 1s will get multiplied with the Bias Weight $ V{_{01}}$**\n",
        "* The final output will be a Vector containing values of $a{_3}$ for all the Data Points\n",
        "* **Compute the average of all these $a{_3}$ values, round it to Two decimal places and submit as your answer in the LMS**\n",
        "</div>"
      ]
    },
    {
      "cell_type": "code",
      "execution_count": null,
      "id": "c3208867",
      "metadata": {
        "id": "c3208867"
      },
      "outputs": [],
      "source": [
        "#------------Write your code here------------"
      ]
    },
    {
      "cell_type": "code",
      "execution_count": null,
      "id": "c38a2fe7",
      "metadata": {
        "id": "c38a2fe7",
        "colab": {
          "base_uri": "https://localhost:8080/"
        },
        "outputId": "a87a2569-3141-4e30-e8a8-c9b9b149268c"
      },
      "outputs": [
        {
          "output_type": "stream",
          "name": "stdout",
          "text": [
            "[[ 6.7 -3.5]\n",
            " [16.1  7.7]\n",
            " [ 7.7  3.1]\n",
            " [ 8.8  5.4]\n",
            " [17.5  9.5]\n",
            " [13.2  8.4]\n",
            " [ 2.5 -2.7]]\n",
            "[[ 6.7  0. ]\n",
            " [16.1  7.7]\n",
            " [ 7.7  3.1]\n",
            " [ 8.8  5.4]\n",
            " [17.5  9.5]\n",
            " [13.2  8.4]\n",
            " [ 2.5  0. ]]\n"
          ]
        }
      ],
      "source": [
        "Z1 = np.dot(Feature_matrix, W_weights)\n",
        "print(Z1)\n",
        "A1 = relu(Z1) # Applying rectified linear unit - max(0,z)\n",
        "print(A1)"
      ]
    },
    {
      "cell_type": "code",
      "execution_count": null,
      "id": "a936d0c4",
      "metadata": {
        "id": "a936d0c4",
        "colab": {
          "base_uri": "https://localhost:8080/"
        },
        "outputId": "197e8863-188e-4f56-c8eb-2d2f3f93c1ad"
      },
      "outputs": [
        {
          "output_type": "stream",
          "name": "stdout",
          "text": [
            "[[ 1.   6.7  0. ]\n",
            " [ 1.  16.1  7.7]\n",
            " [ 1.   7.7  3.1]\n",
            " [ 1.   8.8  5.4]\n",
            " [ 1.  17.5  9.5]\n",
            " [ 1.  13.2  8.4]\n",
            " [ 1.   2.5  0. ]]\n"
          ]
        }
      ],
      "source": [
        "A1 = np.append(np.ones((A1.shape[0], 1), dtype=np.int32), A1, axis=1)\n",
        "print(A1)"
      ]
    },
    {
      "cell_type": "code",
      "execution_count": null,
      "id": "33309f46",
      "metadata": {
        "id": "33309f46",
        "colab": {
          "base_uri": "https://localhost:8080/"
        },
        "outputId": "e25bedfd-53d7-4747-bdb4-be74bf44b7d6"
      },
      "outputs": [
        {
          "output_type": "stream",
          "name": "stdout",
          "text": [
            "[[ 6.33]\n",
            " [17.1 ]\n",
            " [ 8.16]\n",
            " [ 9.84]\n",
            " [18.9 ]\n",
            " [14.7 ]\n",
            " [ 2.55]]\n",
            "[[ 6.33]\n",
            " [17.1 ]\n",
            " [ 8.16]\n",
            " [ 9.84]\n",
            " [18.9 ]\n",
            " [14.7 ]\n",
            " [ 2.55]]\n"
          ]
        }
      ],
      "source": [
        "Z2 = np.dot(A1, V_weights)\n",
        "print(Z2)\n",
        "A2 = relu(Z2)\n",
        "print(A2)"
      ]
    },
    {
      "cell_type": "code",
      "execution_count": null,
      "id": "8076d886",
      "metadata": {
        "id": "8076d886"
      },
      "outputs": [],
      "source": []
    },
    {
      "cell_type": "code",
      "execution_count": null,
      "id": "1586bae6",
      "metadata": {
        "id": "1586bae6",
        "outputId": "34a8475b-90a7-44bf-9218-a3a191ba103e"
      },
      "outputs": [
        {
          "data": {
            "image/png": "[encoded data removed]",
            "text/plain": [
              "<IPython.core.display.Image object>"
            ]
          },
          "execution_count": 12,
          "metadata": {},
          "output_type": "execute_result"
        }
      ],
      "source": [
        "#------Do not run this Cell------------"
      ]
    },
    {
      "cell_type": "markdown",
      "id": "f17a0eca",
      "metadata": {
        "id": "f17a0eca"
      },
      "source": [
        "<div class=\"alert alert-block alert-danger\">\n",
        "\n",
        "## Q8 - Compute the Binary Classification loss for a FFNN across Multiple data points\n",
        "</div>"
      ]
    },
    {
      "cell_type": "code",
      "execution_count": null,
      "id": "e156be05",
      "metadata": {
        "id": "e156be05",
        "outputId": "a1a984a5-5646-4c9f-9981-453d8cff69ef",
        "colab": {
          "base_uri": "https://localhost:8080/"
        }
      },
      "outputs": [
        {
          "output_type": "stream",
          "name": "stdout",
          "text": [
            "X : \n",
            " [[ 1.         -0.22752394 -0.59139893]\n",
            " [ 1.          1.1901095  -1.36589487]\n",
            " [ 1.         -1.32556175  1.85693165]\n",
            " [ 1.         -1.35425836 -0.74047347]\n",
            " [ 1.         -1.36223476  0.01387541]]\n",
            "Y : \n",
            " [[0]\n",
            " [1]\n",
            " [0]\n",
            " [1]\n",
            " [0]]\n",
            "W : \n",
            " [[ 1.30956422 -0.40808841]\n",
            " [ 0.05363833 -1.23713899]\n",
            " [-0.24855747  1.31903477]]\n",
            "V : \n",
            " [[ 0.75333725]\n",
            " [-0.36290984]\n",
            " [-0.4707278 ]]\n"
          ]
        }
      ],
      "source": [
        "#------------DO NOT MAKE ANY CHANGES IN THIS CELL------------\n",
        "#------------DO NOT MAKE ANY CHANGES IN THIS CELL------------\n",
        "#------------DO NOT MAKE ANY CHANGES IN THIS CELL------------\n",
        "np.random.seed(90)\n",
        "Feature_matrix = np.random.randn(5,3)\n",
        "Feature_matrix[:,0]=1\n",
        "Labels = np.random.choice(2,(5,1))\n",
        "W_weights = np.random.randn(3,2)\n",
        "V_weights = np.random.randn(3,1)\n",
        "\n",
        "print('X :','\\n',Feature_matrix)\n",
        "print('Y :','\\n',Labels)\n",
        "print('W :','\\n',W_weights)\n",
        "print('V :','\\n',V_weights)\n",
        "\n",
        "#------------DO NOT MAKE ANY CHANGES IN THIS CELL------------\n",
        "#------------DO NOT MAKE ANY CHANGES IN THIS CELL------------\n",
        "#------------DO NOT MAKE ANY CHANGES IN THIS CELL------------"
      ]
    },
    {
      "cell_type": "code",
      "execution_count": null,
      "id": "0005023c",
      "metadata": {
        "id": "0005023c"
      },
      "outputs": [],
      "source": []
    },
    {
      "cell_type": "markdown",
      "id": "0eb72d1f",
      "metadata": {
        "id": "0eb72d1f"
      },
      "source": [
        "<div class=\"alert alert-block alert-warning\">\n",
        "    \n",
        "### Read the below Instructions carefully\n",
        "***\n",
        "* Use the above provided inputs : Feature Matrix, Weights and Actual Labels (0 or 1)\n",
        "* **Use Sigmoid() activation function for all Nodes**\n",
        "* Use the below expression to compute loss for multiple data points :\n",
        "    \n",
        "$$ \\large\n",
        "\\text{Binary Cross-Entropy Loss} = -\\frac{1}{N}\\sum_{i=1}^{N}\\left(y_i \\cdot \\log(p_i) + (1 - y_i) \\cdot \\log(1 - p_i)\\right)\n",
        "$$\n",
        "\n",
        "* In this equation:\n",
        "\n",
        " * N represents the number of data points\n",
        " * $y{_i}$ represents the Actual Binary label (0 or 1) for the i-th data point\n",
        " * $p{_i}$ represents the predicted probability for the i-th data point\n",
        "\n",
        "    \n",
        "* **Round the final Loss value to Three decimal places and submit in LMS as your solution to this question**\n",
        "\n",
        "</div>"
      ]
    },
    {
      "cell_type": "code",
      "execution_count": null,
      "id": "b23adfd1",
      "metadata": {
        "id": "b23adfd1"
      },
      "outputs": [],
      "source": [
        "#------------Write your code here------------"
      ]
    },
    {
      "cell_type": "code",
      "execution_count": null,
      "id": "c4cd55dd",
      "metadata": {
        "id": "c4cd55dd",
        "colab": {
          "base_uri": "https://localhost:8080/"
        },
        "outputId": "1f3f4b9c-99a0-481d-9ac8-7eff41098899"
      },
      "outputs": [
        {
          "output_type": "stream",
          "name": "stdout",
          "text": [
            "[[ 1.44435683 -0.90668543]\n",
            " [ 1.71290307 -3.68208211]\n",
            " [ 0.77690907  3.68117313]\n",
            " [ 1.42097426  0.29060716]\n",
            " [ 1.23304737  1.29548748]]\n",
            "[[1.44435683 0.        ]\n",
            " [1.71290307 0.        ]\n",
            " [0.77690907 3.68117313]\n",
            " [1.42097426 0.29060716]\n",
            " [1.23304737 1.29548748]]\n",
            "[[1.         1.44435683 0.        ]\n",
            " [1.         1.71290307 0.        ]\n",
            " [1.         0.77690907 3.68117313]\n",
            " [1.         1.42097426 0.29060716]\n",
            " [1.         1.23304737 1.29548748]]\n",
            "[[ 0.22916595]\n",
            " [ 0.13170787]\n",
            " [-1.26144123]\n",
            " [ 0.10085484]\n",
            " [-0.30396974]]\n",
            "[[0.55704206]\n",
            " [0.53287945]\n",
            " [0.22072589]\n",
            " [0.52519236]\n",
            " [0.42458733]]\n",
            "Loss : 0.58\n"
          ]
        }
      ],
      "source": [
        "Z1 = np.dot(Feature_matrix, W_weights)\n",
        "print(Z1)\n",
        "A1 = relu(Z1) # Applying rectified linear unit - max(0,z)\n",
        "print(A1)\n",
        "A1 = np.append(np.ones((A1.shape[0], 1), dtype=np.int32), A1, axis=1)\n",
        "print(A1)\n",
        "Z2 = np.dot(A1, V_weights)\n",
        "print(Z2)\n",
        "A2 = sigmoid(Z2)\n",
        "print(A2)\n",
        "loss = Labels * np.log(A2) + (1 - Labels) * np.log(1-A2)\n",
        "loss = loss.sum() * (-1/Feature_matrix.shape[0])\n",
        "print('Loss :', loss.round(2))"
      ]
    },
    {
      "cell_type": "code",
      "execution_count": null,
      "id": "d3647d1f",
      "metadata": {
        "id": "d3647d1f"
      },
      "outputs": [],
      "source": []
    },
    {
      "cell_type": "markdown",
      "id": "5fc653d8",
      "metadata": {
        "id": "5fc653d8"
      },
      "source": []
    },
    {
      "cell_type": "markdown",
      "id": "2963f701",
      "metadata": {
        "id": "2963f701"
      },
      "source": [
        "<div class=\"alert alert-block alert-danger\">\n",
        "    \n",
        "## Q9 Find the FFNN parameters that make the provided Data Points 'Linearly Separable'\n",
        "* For a simple FFNN with the below architecture, **find which of the following choice(s) of weights will make the data points Linearly Separable in the new space**\n",
        " * Input Layer with 2 Nodes\n",
        " * Just 1 Hidden Layer with 2 nodes\n",
        "    \n",
        "* A partially written code is provided to you in the next cell:\n",
        "    * Currently it generates just the scatter plot of data points in the original space (of $X_1$ and $X_2$) - as shown in the Left sub-plot\n",
        "    * **Your written code (in the same cell) should create the Right side sub-plot which can verify if the points become liearly separable in the new space (after applying a suitable Activation Function)**\n",
        "* Submit in LMS the Weight Option(s) as your final answer"
      ]
    },
    {
      "cell_type": "markdown",
      "id": "9c16fdba",
      "metadata": {
        "id": "9c16fdba"
      },
      "source": [
        "A)  $\\begin{bmatrix} 1 & 0.35 \\\\ -3.5 & 3.5 \\\\ -3.5 & 3.5 \\end{bmatrix}$ ,\n",
        "B)  $\\begin{bmatrix} 2 & 1 \\\\ -4.5 & -5.5 \\\\ 4.5 & 5.5 \\end{bmatrix}$ ,\n",
        "C)  $\\begin{bmatrix} 1 & 0.35 \\\\ -4.5 & 3.5 \\\\ 3.5 & -4.5 \\end{bmatrix}$ ,\n",
        "D)  $\\begin{bmatrix} 1 & 0.55 \\\\ 4.5 & -3.5 \\\\ 4.5 & -3.5 \\end{bmatrix}$"
      ]
    },
    {
      "cell_type": "code",
      "execution_count": null,
      "id": "97e88633",
      "metadata": {
        "scrolled": false,
        "id": "97e88633",
        "outputId": "b64d7bb3-492b-4259-b4ca-70abfba61243",
        "colab": {
          "base_uri": "https://localhost:8080/",
          "height": 436
        }
      },
      "outputs": [
        {
          "output_type": "display_data",
          "data": {
            "text/plain": [
              "<Figure size 1500x500 with 2 Axes>"
            ],
            "image/png": "[encoded data removed]"
          },
          "metadata": {}
        }
      ],
      "source": [
        "#------------DO NOT MAKE ANY CHANGES IN THE BELOW CODE LINES------------\n",
        "#------------DO NOT MAKE ANY CHANGES IN THE BELOW CODE LINES------------\n",
        "#------------DO NOT MAKE ANY CHANGES IN THE BELOW CODE LINES------------\n",
        "\n",
        "mult_points = np.array([[0, -0.12, -0.06],[0, -0.15, -0.18],[0, -0.2, -0.06],[0, -0.09, -0.18],[0, -0.1, -0.18],[0, -0.18, -0.09],\n",
        "                        [0, -0.06, -0.23],[0, -0.2, -0.15],[0, -0.09, -0.22],[0, -0.07, -0.14],[1, 0.12, 0.04],[1, 0.15, 0.03],\n",
        "                        [1, 0.08, 0.14],[1, 0.02, -0.02],[1, 0.05, 0.03],[1, -0.02, 0.09],[1, 0, -0.03],[1, 0.12, -0.03],\n",
        "                        [1, 0.11, 0.03],[1, 0.01, -0.01],[0, 0.3, 0.26],[0, 0.18, 0.19],[0, 0.19, 0.26],[0, 0.19, 0.27],\n",
        "                        [0, 0.22, 0.17],[0, 0.24, 0.2],[0, 0.24, 0.29],[0, 0.23, 0.23],[0, 0.2, 0.18],[0, 0.18, 0.26]])\n",
        "\n",
        "#-----------Storing Data Labels separately------------\n",
        "labels = mult_points[:,0].copy()\n",
        "\n",
        "#-----------Creating a Scatter Plot on the Array 'mult_points'------------\n",
        "fig,axes = plt.subplots(1,2,figsize=(15,5),sharey=False)   #----Creating a 1 x 2 Grid of Sub-plots (.i.e., 1 row, 2 columns)\n",
        "p1 = sns.scatterplot(x=mult_points[:,1],   #----Providing the X-values for the Scatter Plot\n",
        "                     y=mult_points[:,2],   #----Providing the Y-values for the Scatter Plot\n",
        "                     ax=axes[0],           #----Specifying where should this scatter plot appear in the sub-plots\n",
        "                     s=100,                #----Specifying the size of Scatter Plot marker\n",
        "                     hue=labels,           #----Specifying that points with different labels should show with different colors\n",
        "                     palette=['orangered','limegreen'],    #-----Specifying the marker colors for Labels 0 and 1 respectively\n",
        "                     legend=False)\n",
        "p1.set_xlabel( \"X1\" , size = 12 )\n",
        "p1.set_ylabel( \"X2\" , size = 12 );\n",
        "\n",
        "#------------DO NOT MAKE ANY CHANGES IN THE ABOVE CODE LINES------------\n",
        "#------------DO NOT MAKE ANY CHANGES IN THE ABOVE CODE LINES------------\n",
        "#------------DO NOT MAKE ANY CHANGES IN THE ABOVE CODE LINES------------\n",
        "\n",
        "\n",
        "\n",
        "#***************************************************************************************************\n",
        "#------Write your code here----------\n",
        "#------Write your code here----------\n",
        "#------Write your code here----------\n",
        "\n",
        "mult_points[:,0] = 1\n",
        "Weights = np.array([[1,0.35],[-3.5,3.5],[-3.5,3.5]])     #--YES\n",
        "# Weights = np.array([[2,1],[-4.5,-5.5],[4.5,5.5]])      #---NO\n",
        "# Weights = np.array([[1,0.35],[-4.5,3.5],[3.5,-4.5]])   #---NO\n",
        "Weights = np.array([[1,0.55],[4.5,-3.5],[4.5,-3.5]])   #--YES\n",
        "activated_outputs = np.dot(mult_points,Weights)\n",
        "activated_outputs = tanh(activated_outputs)\n",
        "\n",
        "p2 = sns.scatterplot(x=activated_outputs[:,0],y=activated_outputs[:,1], ax=axes[1],\n",
        "                     s=100,hue=labels,palette=['orangered','limegreen'],legend=False)\n",
        "p2.set_xlabel( \"a1\" , size = 12 )\n",
        "p2.set_ylabel( \"a2\" , size = 12 );\n",
        "\n",
        "# leaky relu > relu > tanh\n",
        "# sigmoid and softmax in the last layer or output layer"
      ]
    },
    {
      "cell_type": "code",
      "execution_count": null,
      "id": "49edefa8",
      "metadata": {
        "id": "49edefa8"
      },
      "outputs": [],
      "source": []
    },
    {
      "cell_type": "code",
      "execution_count": null,
      "id": "b5fb85bb",
      "metadata": {
        "id": "b5fb85bb",
        "outputId": "f2586111-b954-4b60-e114-22594204d68e"
      },
      "outputs": [
        {
          "data": {
            "image/png": "[encoded data removed]",
            "text/plain": [
              "<IPython.core.display.Image object>"
            ]
          },
          "execution_count": 170,
          "metadata": {},
          "output_type": "execute_result"
        }
      ],
      "source": [
        "#------Do not run this Cell------------"
      ]
    },
    {
      "cell_type": "markdown",
      "id": "e3ed00fc",
      "metadata": {
        "id": "e3ed00fc"
      },
      "source": [
        "<div class=\"alert alert-block alert-danger\">\n",
        "    \n",
        "## Q10 - Implement Backpropagation for a simple FFNN\n",
        "* Implement the Backpropagation steps for the above shown FFNN (with 1 input node and 1 hidden layer node)\n",
        "* Your code should answer the following questions:\n",
        " * What is the Loss value (rounded to 3 decimal places) after 35 weight updates. **Note that the initial Loss value of 8 does not get counted here, since the starting weight is used to compute Loss**\n",
        " * After 18 weight updates, what is the value of $w_1$ (rounded to 1 decimal place)\n",
        "\n",
        "* **Submit your answers for the respective questions in LMS**"
      ]
    },
    {
      "cell_type": "code",
      "execution_count": null,
      "id": "e633a4fe",
      "metadata": {
        "id": "e633a4fe",
        "colab": {
          "base_uri": "https://localhost:8080/"
        },
        "outputId": "485c836a-b2e7-4f56-94a2-984f9f6d9ca7"
      },
      "outputs": [
        {
          "output_type": "stream",
          "name": "stdout",
          "text": [
            "ITR 1 ---> w1 : 1.04 Loss : 7.8408\n",
            "ITR 26 ---> w1 : 1.92 Loss : 4.7437\n",
            "ITR 51 ---> w1 : 2.6 Loss : 2.87\n",
            "ITR 76 ---> w1 : 3.14 Loss : 1.7364\n",
            "ITR 101 ---> w1 : 3.55 Loss : 1.0505\n",
            "ITR 126 ---> w1 : 3.87 Loss : 0.6356\n",
            "ITR 151 ---> w1 : 4.12 Loss : 0.3845\n",
            "ITR 176 ---> w1 : 4.32 Loss : 0.2326\n",
            "ITR 201 ---> w1 : 4.47 Loss : 0.1407\n",
            "ITR 226 ---> w1 : 4.59 Loss : 0.0852\n",
            "ITR 251 ---> w1 : 4.68 Loss : 0.0515\n",
            "ITR 276 ---> w1 : 4.75 Loss : 0.0312\n",
            "ITR 301 ---> w1 : 4.81 Loss : 0.0189\n",
            "ITR 326 ---> w1 : 4.85 Loss : 0.0114\n",
            "ITR 351 ---> w1 : 4.88 Loss : 0.0069\n",
            "ITR 376 ---> w1 : 4.91 Loss : 0.0042\n",
            "ITR 401 ---> w1 : 4.93 Loss : 0.0025\n",
            "ITR 426 ---> w1 : 4.94 Loss : 0.0015\n",
            "ITR 451 ---> w1 : 4.96 Loss : 0.0009\n",
            "ITR 476 ---> w1 : 4.97 Loss : 0.0006\n",
            "ITR 501 ---> w1 : 4.97 Loss : 0.0003\n",
            "ITR 526 ---> w1 : 4.98 Loss : 0.0002\n",
            "ITR 551 ---> w1 : 4.98 Loss : 0.0001\n"
          ]
        }
      ],
      "source": [
        "x,y = 1,5; w1=1.0; b1=0; learning_rate = 0.1\n",
        "\n",
        "#------------DO NOT MAKE ANY CHANGES IN THE ABOVE CODE LINES------------\n",
        "#------------DO NOT MAKE ANY CHANGES IN THE ABOVE CODE LINES------------\n",
        "#------------DO NOT MAKE ANY CHANGES IN THE ABOVE CODE LINES------------\n",
        "\n",
        "\n",
        "#------Write your code here----------\n",
        "for i in range(1000):\n",
        "  a1 = relu(x*w1+b1)\n",
        "  w1 = w1 - 0.01*(a1-y)\n",
        "  a1 = relu(x*w1+b1)\n",
        "  loss = 0.5*(y-a1)**2\n",
        "  if (i%25 == 0):\n",
        "    print('ITR', str(i+1), '--->', 'w1 :', round(w1, 2), 'Loss :', round(loss, 4))\n",
        "  if loss < 0.0001:\n",
        "    break"
      ]
    },
    {
      "cell_type": "code",
      "execution_count": null,
      "id": "2eb594e9",
      "metadata": {
        "id": "2eb594e9"
      },
      "outputs": [],
      "source": []
    },
    {
      "cell_type": "code",
      "execution_count": null,
      "id": "7803a919",
      "metadata": {
        "id": "7803a919"
      },
      "outputs": [],
      "source": []
    },
    {
      "cell_type": "code",
      "execution_count": null,
      "id": "93429b82",
      "metadata": {
        "id": "93429b82"
      },
      "outputs": [],
      "source": []
    }
  ],
  "metadata": {
    "kernelspec": {
      "display_name": "Python 3 (ipykernel)",
      "language": "python",
      "name": "python3"
    },
    "language_info": {
      "codemirror_mode": {
        "name": "ipython",
        "version": 3
      },
      "file_extension": ".py",
      "mimetype": "text/x-python",
      "name": "python",
      "nbconvert_exporter": "python",
      "pygments_lexer": "ipython3",
      "version": "3.9.13"
    },
    "colab": {
      "provenance": []
    }
  },
  "nbformat": 4,
  "nbformat_minor": 5
}